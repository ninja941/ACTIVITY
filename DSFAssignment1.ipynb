{
  "nbformat": 4,
  "nbformat_minor": 0,
  "metadata": {
    "colab": {
      "provenance": [],
      "gpuType": "T4",
      "mount_file_id": "1HbfB5eVCW0xwDwLRmI_V6kHA229wZIlI",
      "authorship_tag": "ABX9TyMHAQ6+i9ErQy90xmz33pNl",
      "include_colab_link": true
    },
    "kernelspec": {
      "name": "python3",
      "display_name": "Python 3"
    },
    "language_info": {
      "name": "python"
    },
    "accelerator": "GPU"
  },
  "cells": [
    {
      "cell_type": "markdown",
      "metadata": {
        "id": "view-in-github",
        "colab_type": "text"
      },
      "source": [
        "<a href=\"https://colab.research.google.com/github/ninja941/ACTIVITY/blob/main/DSFAssignment1.ipynb\" target=\"_parent\"><img src=\"https://colab.research.google.com/assets/colab-badge.svg\" alt=\"Open In Colab\"/></a>"
      ]
    },
    {
      "cell_type": "code",
      "source": [
        "from google.colab import drive\n",
        "drive.mount('/content/drive')"
      ],
      "metadata": {
        "colab": {
          "base_uri": "https://localhost:8080/"
        },
        "id": "oZEqkvFJf3DA",
        "outputId": "a2b79d6d-321d-4a66-8753-5794950ab3c0"
      },
      "execution_count": 20,
      "outputs": [
        {
          "output_type": "stream",
          "name": "stdout",
          "text": [
            "Drive already mounted at /content/drive; to attempt to forcibly remount, call drive.mount(\"/content/drive\", force_remount=True).\n"
          ]
        }
      ]
    },
    {
      "cell_type": "code",
      "execution_count": 11,
      "metadata": {
        "colab": {
          "base_uri": "https://localhost:8080/"
        },
        "id": "1ZRZI6suWn2F",
        "outputId": "da2b8457-b618-4f6f-cb83-9692513e6f54"
      },
      "outputs": [
        {
          "output_type": "stream",
          "name": "stdout",
          "text": [
            "Corpus length: 1115394 characters\n",
            "Sample:\n",
            "First Citizen:\n",
            "Before we proceed any further, hear me speak.\n",
            "\n",
            "All:\n",
            "Speak, speak.\n",
            "\n",
            "First Citizen:\n",
            "You are all resolved rather to die than to famish?\n",
            "\n",
            "All:\n",
            "Resolved. resolved.\n",
            "\n",
            "First Citizen:\n",
            "First, you know Caius Marcius is chief enemy to the people.\n",
            "\n",
            "All:\n",
            "We know't, we know't.\n",
            "\n",
            "First Citizen:\n",
            "Let us\n"
          ]
        }
      ],
      "source": [
        "import os, io, zipfile, requests\n",
        "from pathlib import Path\n",
        "\n",
        "# Choose the corpus\n",
        "corpus_name = \"shakespeare\"  # Change to \"shakespeare\", \"wikipedia\", or \"math\"\n",
        "\n",
        "# Reliable sources:\n",
        "# - shakespeare: Karpathy's tiny Shakespeare (plain text)\n",
        "# - wikipedia: https://www.kaggle.com/datasets/ffatty/plain-text-wikipedia-simpleenglish\n",
        "# - math: https://archive.org/stream/CalculusMadeEasy/Calculus_Made_Easy_Thompson_djvu.txt\n",
        "\n",
        "\n",
        "\n",
        "# Download and show sample\n",
        "\n",
        "text = Path(f\"/content/drive/MyDrive/Lab 1 attached files Sep 3, 2025 439 PM/data/{corpus_name}.txt\").read_text(encoding=\"utf-8\", errors=\"ignore\")\n",
        "print(f\"Corpus length: {len(text)} characters\")\n",
        "print(\"Sample:\")\n",
        "print(text[:300])"
      ]
    },
    {
      "cell_type": "code",
      "source": [
        "# -----------------------------------------\n",
        "# Prepare dataset for character-level modeling\n",
        "# -----------------------------------------\n",
        "\n",
        "import torch\n",
        "from torch.utils.data import Dataset, DataLoader\n",
        "from pathlib import Path\n",
        "from torch.utils.data import DataLoader\n",
        "\n",
        "class CharDataset(Dataset):\n",
        "    def __init__(self, text, block_size, stoi=None, itos=None):\n",
        "        \"\"\"\n",
        "        text: The raw text string we want to train on.\n",
        "        block_size: The length of each training sequence (number of characters).\n",
        "        stoi, itos: Optional vocab mappings. If provided, reuse them.\n",
        "        \"\"\"\n",
        "\n",
        "        # 1. Build or reuse the vocabulary\n",
        "        if stoi is None or itos is None:\n",
        "            # Build from scratch\n",
        "            self.chars = sorted(list(set(text)))\n",
        "            self.vocab_size = len(self.chars)\n",
        "            self.stoi = {ch: i for i, ch in enumerate(self.chars)}\n",
        "            self.itos = {i: ch for i, ch in enumerate(self.chars)}\n",
        "        else:\n",
        "            # Reuse given vocab\n",
        "            self.stoi = stoi\n",
        "            self.itos = itos\n",
        "            self.vocab_size = len(self.stoi)\n",
        "\n",
        "        # 2. Store sequence length\n",
        "        self.block_size = block_size\n",
        "\n",
        "        # 3. Encode dataset into indices\n",
        "        #    Use .get(ch, 0) so unknown characters map to 0\n",
        "        self.data = torch.tensor([self.stoi.get(c, 0) for c in text], dtype=torch.long)\n",
        "\n",
        "    def __len__(self):\n",
        "        return len(self.data) - self.block_size\n",
        "\n",
        "    def __getitem__(self, idx):\n",
        "        chunk = self.data[idx : idx + self.block_size + 1]\n",
        "        x = chunk[:-1]\n",
        "        y = chunk[1:]\n",
        "        return x, y\n",
        "\n",
        "\n",
        "block_size = 64\n",
        "text = Path(f\"/content/drive/MyDrive/Lab 1 attached files Sep 3, 2025 439 PM/data/{corpus_name}.txt\").read_text(encoding=\"utf-8\", errors=\"ignore\")\n",
        "dataset = CharDataset(text, block_size=block_size, stoi=None, itos=None)"
      ],
      "metadata": {
        "id": "SCzzWuJqcbHL"
      },
      "execution_count": 12,
      "outputs": []
    },
    {
      "cell_type": "code",
      "source": [
        "import sys\n",
        "sys.path.append(\"/content/drive/MyDrive/Lab 1 attached files Sep 3, 2025 439 PM\")\n",
        "from nanogpt_model import GPT  # Import the GPT model class from the NanoGPT repo\n",
        "\n",
        "\n",
        "# -----------------------------------------\n",
        "# Define a configuration object for the GPT model\n",
        "# -----------------------------------------\n",
        "class GPTConfig:\n",
        "    def __init__(self, vocab_size, block_size,\n",
        "                 n_layer=2, n_head=2, n_embd=128, dropout=0.2, bias = True):\n",
        "\n",
        "\n",
        "        # Store all parameters for use by the GPT class\n",
        "        self.vocab_size = vocab_size\n",
        "        self.block_size = block_size\n",
        "        self.n_layer = n_layer\n",
        "        self.n_head = n_head\n",
        "        self.n_embd = n_embd\n",
        "        self.dropout = dropout\n",
        "        self.bias = bias\n",
        "\n",
        "\n",
        "config = GPTConfig(vocab_size=dataset.vocab_size, block_size=block_size)\n",
        "model = GPT(config)\n",
        "print(model)\n",
        "\n",
        ""
      ],
      "metadata": {
        "colab": {
          "base_uri": "https://localhost:8080/"
        },
        "id": "XuTd1NMefuNG",
        "outputId": "4c9da6cf-3920-47d6-d8d1-7735d164c872"
      },
      "execution_count": 13,
      "outputs": [
        {
          "output_type": "stream",
          "name": "stdout",
          "text": [
            "number of parameters: 0.41M\n",
            "GPT(\n",
            "  (transformer): ModuleDict(\n",
            "    (wte): Embedding(65, 128)\n",
            "    (wpe): Embedding(64, 128)\n",
            "    (drop): Dropout(p=0.2, inplace=False)\n",
            "    (h): ModuleList(\n",
            "      (0-1): 2 x Block(\n",
            "        (ln_1): LayerNorm()\n",
            "        (attn): CausalSelfAttention(\n",
            "          (c_attn): Linear(in_features=128, out_features=384, bias=True)\n",
            "          (c_proj): Linear(in_features=128, out_features=128, bias=True)\n",
            "          (attn_dropout): Dropout(p=0.2, inplace=False)\n",
            "          (resid_dropout): Dropout(p=0.2, inplace=False)\n",
            "        )\n",
            "        (ln_2): LayerNorm()\n",
            "        (mlp): MLP(\n",
            "          (c_fc): Linear(in_features=128, out_features=512, bias=True)\n",
            "          (gelu): GELU(approximate='none')\n",
            "          (c_proj): Linear(in_features=512, out_features=128, bias=True)\n",
            "          (dropout): Dropout(p=0.2, inplace=False)\n",
            "        )\n",
            "      )\n",
            "    )\n",
            "    (ln_f): LayerNorm()\n",
            "  )\n",
            "  (lm_head): Linear(in_features=128, out_features=65, bias=False)\n",
            ")\n"
          ]
        }
      ]
    },
    {
      "cell_type": "code",
      "source": [
        "import os\n",
        "import collections\n",
        "import matplotlib.pyplot as plt\n",
        "\n",
        "def safe_label(c):\n",
        "    try:\n",
        "        c.encode(\"ascii\")  # check if ASCII-printable\n",
        "        return c\n",
        "    except UnicodeEncodeError:\n",
        "        return f\"U+{ord(c):04X}\"\n",
        "\n",
        "def plot_char_histogram(text, corpus_name, top_n=30):\n",
        "    os.makedirs(\"checkpoints\", exist_ok=True)   # ✅ ensure checkpoints folder exists\n",
        "\n",
        "    counts = collections.Counter(text)\n",
        "    most_common = counts.most_common(top_n)\n",
        "\n",
        "    labels = [safe_label(c) for c, _ in most_common]\n",
        "    values = [v for _, v in most_common]\n",
        "\n",
        "    plt.figure(figsize=(12,6))\n",
        "    plt.bar(labels, values)\n",
        "    plt.title(f\"Character Frequency Histogram - {corpus_name}\")\n",
        "    plt.xlabel(\"Character\")\n",
        "    plt.ylabel(\"Count\")\n",
        "    plt.xticks(rotation=90)\n",
        "    plt.tight_layout()\n",
        "\n",
        "    out_path = f\"checkpoints/{corpus_name}_char_hist.png\"\n",
        "    plt.savefig(out_path)\n",
        "    plt.show()\n",
        "    print(f\"✅ Saved histogram to {out_path}\")\n"
      ],
      "metadata": {
        "id": "7hfmKIm1TXxy"
      },
      "execution_count": 21,
      "outputs": []
    },
    {
      "cell_type": "code",
      "source": [
        "plot_char_histogram(shakespeare_text, \"shakespeare\")\n",
        "plot_char_histogram(wiki_text, \"wikipedia\")\n",
        "plot_char_histogram(math_text, \"math\")"
      ],
      "metadata": {
        "colab": {
          "base_uri": "https://localhost:8080/",
          "height": 1000
        },
        "id": "Avcy_Xn1TZ2A",
        "outputId": "6141b52d-609e-413d-b73d-6b6d3d07e3e9"
      },
      "execution_count": 15,
      "outputs": [
        {
          "output_type": "display_data",
          "data": {
            "text/plain": [
              "<Figure size 1200x600 with 1 Axes>"
            ],
            "image/png": "[encoded data removed]"
          },
          "metadata": {}
        },
        {
          "output_type": "stream",
          "name": "stdout",
          "text": [
            "✅ Saved histogram to checkpoints/shakespeare_char_hist.png\n"
          ]
        },
        {
          "output_type": "display_data",
          "data": {
            "text/plain": [
              "<Figure size 1200x600 with 1 Axes>"
            ],
            "image/png": "[encoded data removed]"
          },
          "metadata": {}
        },
        {
          "output_type": "stream",
          "name": "stdout",
          "text": [
            "✅ Saved histogram to checkpoints/wikipedia_char_hist.png\n"
          ]
        },
        {
          "output_type": "display_data",
          "data": {
            "text/plain": [
              "<Figure size 1200x600 with 1 Axes>"
            ],
            "image/png": "[encoded data removed]"
          },
          "metadata": {}
        },
        {
          "output_type": "stream",
          "name": "stdout",
          "text": [
            "✅ Saved histogram to checkpoints/math_char_hist.png\n"
          ]
        }
      ]
    },
    {
      "cell_type": "code",
      "source": [
        "import os\n",
        "import torch\n",
        "from tqdm import tqdm\n",
        "print(corpus_name)\n",
        "# Directory for this corpus\n",
        "ckpt_dir = os.path.join(\"checkpoints\", corpus_name)\n",
        "os.makedirs(ckpt_dir, exist_ok=True)\n",
        "final_ckpt_path = os.path.join(ckpt_dir, \"final.pt\")\n",
        "\n",
        "if os.path.exists(final_ckpt_path):\n",
        "    print(f\"Final checkpoint for '{corpus_name}' found at {final_ckpt_path}.\")\n",
        "    ckpt = torch.load(final_ckpt_path, map_location=\"cpu\")\n",
        "    model.load_state_dict(ckpt[\"model_state\"])\n",
        "    losses = ckpt.get(\"losses\", [])\n",
        "    print(f\"Loaded model with {len(losses)} stored loss values.\")\n",
        "else:\n",
        "    print(f\"No checkpoint found for '{corpus_name}', starting training...\")\n",
        "    optimizer = torch.optim.AdamW(model.parameters(), lr=1e-3)\n",
        "    loader = DataLoader(dataset, batch_size=32, shuffle=True)\n",
        "    max_iters = 500\n",
        "\n",
        "    losses = []   # will now store only full-batch eval losses\n",
        "    model.train()\n",
        "    for it in range(max_iters):\n",
        "        xb, yb = next(iter(loader))\n",
        "\n",
        "        logits, loss = model(xb, yb)\n",
        "        optimizer.zero_grad()\n",
        "        loss.backward()\n",
        "        optimizer.step()\n",
        "\n",
        "        if it % 100 == 0:\n",
        "            # Evaluate on full dataset (avg loss across all batches)\n",
        "            model.eval()\n",
        "            eval_losses = []\n",
        "\n",
        "            max_batches = len(loader) * 0.01\n",
        "            for i, (xb_eval, yb_eval) in enumerate(loader):\n",
        "                if i >= max_batches:  break\n",
        "                logits_eval, loss_eval = model(xb_eval, yb_eval)\n",
        "                eval_losses.append(loss_eval.item())\n",
        "            avg_loss = torch.mean(torch.tensor(eval_losses))\n",
        "            losses.append(avg_loss)\n",
        "            print(f\"Iter {it}/{max_iters}, Avg Loss over dataset: {avg_loss:.4f}\")\n",
        "\n",
        "            # Save periodic checkpoint\n",
        "            iter_ckpt_path = os.path.join(ckpt_dir, f\"iter_{it}.pt\")\n",
        "            torch.save({\n",
        "                \"model_state\": model.state_dict(),\n",
        "                \"config\": config.__dict__,\n",
        "                \"itos\": dataset.itos,\n",
        "                \"stoi\": dataset.stoi,\n",
        "                \"losses\": losses\n",
        "            }, iter_ckpt_path)\n",
        "            print(f\"Saved checkpoint: {iter_ckpt_path}\")\n",
        "            model.train()  # back to training mode\n",
        "\n",
        "    # Save final checkpoint\n",
        "    torch.save({\n",
        "        \"model_state\": model.state_dict(),\n",
        "        \"config\": config.__dict__,\n",
        "        \"itos\": dataset.itos,\n",
        "        \"stoi\": dataset.stoi,\n",
        "        \"losses\": losses\n",
        "    }, final_ckpt_path)\n",
        "    print(f\"Saved final model to {final_ckpt_path}\")\n"
      ],
      "metadata": {
        "colab": {
          "base_uri": "https://localhost:8080/"
        },
        "id": "Fdu50WqGossb",
        "outputId": "d8ad3048-a220-4d43-b682-e379f31cfb85"
      },
      "execution_count": 16,
      "outputs": [
        {
          "output_type": "stream",
          "name": "stdout",
          "text": [
            "shakespeare\n",
            "No checkpoint found for 'shakespeare', starting training...\n",
            "Iter 0/500, Avg Loss over dataset: 3.7834\n",
            "Saved checkpoint: checkpoints/shakespeare/iter_0.pt\n",
            "Iter 100/500, Avg Loss over dataset: 2.5118\n",
            "Saved checkpoint: checkpoints/shakespeare/iter_100.pt\n",
            "Iter 200/500, Avg Loss over dataset: 2.4509\n",
            "Saved checkpoint: checkpoints/shakespeare/iter_200.pt\n",
            "Iter 300/500, Avg Loss over dataset: 2.3680\n",
            "Saved checkpoint: checkpoints/shakespeare/iter_300.pt\n",
            "Iter 400/500, Avg Loss over dataset: 2.2605\n",
            "Saved checkpoint: checkpoints/shakespeare/iter_400.pt\n",
            "Saved final model to checkpoints/shakespeare/final.pt\n"
          ]
        }
      ]
    },
    {
      "cell_type": "code",
      "source": [
        "import matplotlib.pyplot as plt\n",
        "\n",
        "# Plot training losses\n",
        "plt.figure(figsize=(6,4))\n",
        "plt.plot(losses, marker='o')\n",
        "plt.xlabel(\"Checkpoint (every 100 iters)\")\n",
        "plt.ylabel(\"Average Loss\")\n",
        "plt.title(f\"Training Loss Curve - {corpus_name}\")\n",
        "plt.grid(True)\n",
        "plt.show()"
      ],
      "metadata": {
        "colab": {
          "base_uri": "https://localhost:8080/",
          "height": 410
        },
        "id": "9afbnPaDskQ1",
        "outputId": "59f2105e-7365-44b9-a5fe-75d71eafa12e"
      },
      "execution_count": 17,
      "outputs": [
        {
          "output_type": "display_data",
          "data": {
            "text/plain": [
              "<Figure size 600x400 with 1 Axes>"
            ],
            "image/png": "[encoded data removed]"
          },
          "metadata": {}
        }
      ]
    },
    {
      "cell_type": "code",
      "source": [
        "ckpt = torch.load(\"checkpoints/shakespeare/final.pt\", map_location=\"cpu\")\n",
        "model.load_state_dict(ckpt[\"model_state\"])\n",
        "model.eval()\n",
        "\n",
        "context = torch.tensor([[dataset.stoi[\"T\"]]], dtype=torch.long)  # seed with 'T'\n",
        "out = model.generate(context, max_new_tokens=200)\n",
        "print(\"Generated text:\\n\", ''.join([dataset.itos[int(i)] for i in out[0]]))"
      ],
      "metadata": {
        "colab": {
          "base_uri": "https://localhost:8080/"
        },
        "id": "4K1vUpsbugwB",
        "outputId": "27ed3e06-91ec-4a71-f430-bb6fefa28943"
      },
      "execution_count": 18,
      "outputs": [
        {
          "output_type": "stream",
          "name": "stdout",
          "text": [
            "Generated text:\n",
            " TED Graug dist ma ty magualang.\n",
            "\n",
            "\n",
            "\n",
            "\n",
            "\n",
            "\n",
            "Theme he dener, swars.\n",
            "\n",
            "NKINTERANG LIOQIUK:\n",
            "'TRDO:\n",
            "Bume has minen with my the blow be, thet wisen shis:\n",
            "This be grie he bom not and wher tLuchad whouk so roaot;\n",
            "To\n"
          ]
        }
      ]
    },
    {
      "cell_type": "code",
      "source": [
        "import os\n",
        "import torch\n",
        "from torch.utils.data import DataLoader\n",
        "import matplotlib.pyplot as plt\n",
        "\n",
        "print(corpus_name)\n",
        "\n",
        "ckpt_dir = os.path.join(\"checkpoints\", corpus_name)\n",
        "os.makedirs(ckpt_dir, exist_ok=True)\n",
        "final_ckpt_path = os.path.join(ckpt_dir, \"final.pt\")\n",
        "\n",
        "learning_rate = 3e-4\n",
        "batch_size = 32\n",
        "max_iters = 5000\n",
        "eval_interval = 100\n",
        "grad_clip = 1.0\n",
        "top_k = 50\n",
        "temperature = 0.7\n",
        "\n",
        "optimizer = torch.optim.AdamW(model.parameters(), lr=learning_rate)\n",
        "loader = DataLoader(dataset, batch_size=batch_size, shuffle=True)\n",
        "\n",
        "losses = []\n",
        "start_iter = 0\n",
        "\n",
        "if os.path.exists(final_ckpt_path):\n",
        "    print(f\"Checkpoint found for '{corpus_name}' at {final_ckpt_path}, resuming training...\")\n",
        "    ckpt = torch.load(final_ckpt_path, map_location=\"cpu\")\n",
        "    model.load_state_dict(ckpt[\"model_state\"])\n",
        "    optimizer.load_state_dict(ckpt.get(\"optimizer_state\", optimizer.state_dict()))\n",
        "    losses = ckpt.get(\"losses\", [])\n",
        "    start_iter = ckpt.get(\"iter\", 0)\n",
        "    print(f\"Resuming from iteration {start_iter}, with {len(losses)} stored loss values.\")\n",
        "else:\n",
        "    print(f\"No checkpoint found for '{corpus_name}', starting training from scratch...\")\n",
        "\n",
        "model.train()\n",
        "for it in range(start_iter, max_iters):\n",
        "    xb, yb = next(iter(loader))\n",
        "    logits, loss = model(xb, yb)\n",
        "    optimizer.zero_grad()\n",
        "    loss.backward()\n",
        "    torch.nn.utils.clip_grad_norm_(model.parameters(), max_norm=grad_clip)\n",
        "    optimizer.step()\n",
        "\n",
        "    if it % eval_interval == 0:\n",
        "        model.eval()\n",
        "        eval_losses = []\n",
        "        max_batches = int(len(loader) * 0.01)\n",
        "        for i, (xb_eval, yb_eval) in enumerate(loader):\n",
        "            if i >= max_batches: break\n",
        "            _, loss_eval = model(xb_eval, yb_eval)\n",
        "            eval_losses.append(loss_eval.item())\n",
        "        avg_loss = torch.mean(torch.tensor(eval_losses))\n",
        "        losses.append(avg_loss)\n",
        "        print(f\"Iter {it}/{max_iters}, Avg Loss: {avg_loss:.4f}\")\n",
        "\n",
        "        iter_ckpt_path = os.path.join(ckpt_dir, f\"iter_{it}.pt\")\n",
        "        torch.save({\n",
        "            \"model_state\": model.state_dict(),\n",
        "            \"optimizer_state\": optimizer.state_dict(),\n",
        "            \"config\": config.__dict__,\n",
        "            \"itos\": dataset.itos,\n",
        "            \"stoi\": dataset.stoi,\n",
        "            \"losses\": losses,\n",
        "            \"iter\": it\n",
        "        }, iter_ckpt_path)\n",
        "        print(f\"Saved checkpoint: {iter_ckpt_path}\")\n",
        "        model.train()\n",
        "\n",
        "torch.save({\n",
        "    \"model_state\": model.state_dict(),\n",
        "    \"optimizer_state\": optimizer.state_dict(),\n",
        "    \"config\": config.__dict__,\n",
        "    \"itos\": dataset.itos,\n",
        "    \"stoi\": dataset.stoi,\n",
        "    \"losses\": losses,\n",
        "    \"iter\": max_iters\n",
        "}, final_ckpt_path)\n",
        "print(f\"Saved final model to {final_ckpt_path}\")\n",
        "\n",
        "def generate_text(model, start=\"TO:\", max_new_tokens=200, temperature=0.7, top_k=50):\n",
        "    model.eval()\n",
        "    device = next(model.parameters()).device\n",
        "    idx = torch.tensor([[dataset.stoi.get(s, 0) for s in start]], dtype=torch.long, device=device)\n",
        "    for _ in range(max_new_tokens):\n",
        "        idx_cond = idx[:, -config.block_size:]\n",
        "        logits, _ = model(idx_cond)\n",
        "        logits = logits[:, -1, :] / temperature\n",
        "        probs = torch.softmax(logits, dim=-1)\n",
        "        if top_k is not None:\n",
        "            values, indices = torch.topk(probs, top_k)\n",
        "            probs = torch.zeros_like(probs).scatter_(1, indices, values)\n",
        "            probs /= probs.sum(dim=-1, keepdim=True)\n",
        "        next_token = torch.multinomial(probs, num_samples=1)\n",
        "        idx = torch.cat((idx, next_token), dim=1)\n",
        "    text = ''.join([dataset.itos[i] for i in idx[0].tolist()])\n",
        "    return text\n",
        "\n",
        "print(\"\\nGenerated sample after training:\")\n",
        "print(generate_text(model, start=\"TO:\", max_new_tokens=300, temperature=temperature, top_k=top_k))\n"
      ],
      "metadata": {
        "colab": {
          "base_uri": "https://localhost:8080/"
        },
        "id": "VWp2eWV8v8fv",
        "outputId": "e5187e17-c831-4725-8a8a-0cbf9f343c16"
      },
      "execution_count": 19,
      "outputs": [
        {
          "output_type": "stream",
          "name": "stdout",
          "text": [
            "shakespeare\n",
            "Checkpoint found for 'shakespeare' at checkpoints/shakespeare/final.pt, resuming training...\n",
            "Resuming from iteration 0, with 5 stored loss values.\n",
            "Iter 0/5000, Avg Loss: 2.1819\n",
            "Saved checkpoint: checkpoints/shakespeare/iter_0.pt\n",
            "Iter 100/5000, Avg Loss: 2.1316\n",
            "Saved checkpoint: checkpoints/shakespeare/iter_100.pt\n",
            "Iter 200/5000, Avg Loss: 2.1144\n",
            "Saved checkpoint: checkpoints/shakespeare/iter_200.pt\n",
            "Iter 300/5000, Avg Loss: 2.0822\n",
            "Saved checkpoint: checkpoints/shakespeare/iter_300.pt\n",
            "Iter 400/5000, Avg Loss: 2.0637\n",
            "Saved checkpoint: checkpoints/shakespeare/iter_400.pt\n",
            "Iter 500/5000, Avg Loss: 2.0390\n",
            "Saved checkpoint: checkpoints/shakespeare/iter_500.pt\n",
            "Iter 600/5000, Avg Loss: 2.0227\n",
            "Saved checkpoint: checkpoints/shakespeare/iter_600.pt\n",
            "Iter 700/5000, Avg Loss: 2.0016\n",
            "Saved checkpoint: checkpoints/shakespeare/iter_700.pt\n",
            "Iter 800/5000, Avg Loss: 1.9865\n",
            "Saved checkpoint: checkpoints/shakespeare/iter_800.pt\n",
            "Iter 900/5000, Avg Loss: 1.9663\n",
            "Saved checkpoint: checkpoints/shakespeare/iter_900.pt\n",
            "Iter 1000/5000, Avg Loss: 1.9492\n",
            "Saved checkpoint: checkpoints/shakespeare/iter_1000.pt\n",
            "Iter 1100/5000, Avg Loss: 1.9298\n",
            "Saved checkpoint: checkpoints/shakespeare/iter_1100.pt\n",
            "Iter 1200/5000, Avg Loss: 1.9194\n",
            "Saved checkpoint: checkpoints/shakespeare/iter_1200.pt\n",
            "Iter 1300/5000, Avg Loss: 1.9041\n",
            "Saved checkpoint: checkpoints/shakespeare/iter_1300.pt\n",
            "Iter 1400/5000, Avg Loss: 1.8942\n",
            "Saved checkpoint: checkpoints/shakespeare/iter_1400.pt\n",
            "Iter 1500/5000, Avg Loss: 1.8841\n",
            "Saved checkpoint: checkpoints/shakespeare/iter_1500.pt\n",
            "Iter 1600/5000, Avg Loss: 1.8706\n",
            "Saved checkpoint: checkpoints/shakespeare/iter_1600.pt\n",
            "Iter 1700/5000, Avg Loss: 1.8583\n",
            "Saved checkpoint: checkpoints/shakespeare/iter_1700.pt\n",
            "Iter 1800/5000, Avg Loss: 1.8468\n",
            "Saved checkpoint: checkpoints/shakespeare/iter_1800.pt\n",
            "Iter 1900/5000, Avg Loss: 1.8339\n",
            "Saved checkpoint: checkpoints/shakespeare/iter_1900.pt\n",
            "Iter 2000/5000, Avg Loss: 1.8343\n",
            "Saved checkpoint: checkpoints/shakespeare/iter_2000.pt\n",
            "Iter 2100/5000, Avg Loss: 1.8141\n",
            "Saved checkpoint: checkpoints/shakespeare/iter_2100.pt\n",
            "Iter 2200/5000, Avg Loss: 1.8108\n",
            "Saved checkpoint: checkpoints/shakespeare/iter_2200.pt\n",
            "Iter 2300/5000, Avg Loss: 1.7998\n",
            "Saved checkpoint: checkpoints/shakespeare/iter_2300.pt\n",
            "Iter 2400/5000, Avg Loss: 1.7982\n",
            "Saved checkpoint: checkpoints/shakespeare/iter_2400.pt\n",
            "Iter 2500/5000, Avg Loss: 1.7841\n",
            "Saved checkpoint: checkpoints/shakespeare/iter_2500.pt\n",
            "Iter 2600/5000, Avg Loss: 1.7729\n",
            "Saved checkpoint: checkpoints/shakespeare/iter_2600.pt\n",
            "Iter 2700/5000, Avg Loss: 1.7741\n",
            "Saved checkpoint: checkpoints/shakespeare/iter_2700.pt\n",
            "Iter 2800/5000, Avg Loss: 1.7725\n",
            "Saved checkpoint: checkpoints/shakespeare/iter_2800.pt\n",
            "Iter 2900/5000, Avg Loss: 1.7631\n",
            "Saved checkpoint: checkpoints/shakespeare/iter_2900.pt\n",
            "Iter 3000/5000, Avg Loss: 1.7571\n",
            "Saved checkpoint: checkpoints/shakespeare/iter_3000.pt\n",
            "Iter 3100/5000, Avg Loss: 1.7451\n",
            "Saved checkpoint: checkpoints/shakespeare/iter_3100.pt\n",
            "Iter 3200/5000, Avg Loss: 1.7412\n",
            "Saved checkpoint: checkpoints/shakespeare/iter_3200.pt\n",
            "Iter 3300/5000, Avg Loss: 1.7395\n",
            "Saved checkpoint: checkpoints/shakespeare/iter_3300.pt\n",
            "Iter 3400/5000, Avg Loss: 1.7300\n",
            "Saved checkpoint: checkpoints/shakespeare/iter_3400.pt\n",
            "Iter 3500/5000, Avg Loss: 1.7286\n",
            "Saved checkpoint: checkpoints/shakespeare/iter_3500.pt\n",
            "Iter 3600/5000, Avg Loss: 1.7291\n",
            "Saved checkpoint: checkpoints/shakespeare/iter_3600.pt\n",
            "Iter 3700/5000, Avg Loss: 1.7191\n",
            "Saved checkpoint: checkpoints/shakespeare/iter_3700.pt\n",
            "Iter 3800/5000, Avg Loss: 1.7121\n",
            "Saved checkpoint: checkpoints/shakespeare/iter_3800.pt\n",
            "Iter 3900/5000, Avg Loss: 1.7092\n",
            "Saved checkpoint: checkpoints/shakespeare/iter_3900.pt\n",
            "Iter 4000/5000, Avg Loss: 1.7072\n",
            "Saved checkpoint: checkpoints/shakespeare/iter_4000.pt\n",
            "Iter 4100/5000, Avg Loss: 1.7005\n",
            "Saved checkpoint: checkpoints/shakespeare/iter_4100.pt\n",
            "Iter 4200/5000, Avg Loss: 1.7042\n",
            "Saved checkpoint: checkpoints/shakespeare/iter_4200.pt\n",
            "Iter 4300/5000, Avg Loss: 1.6979\n",
            "Saved checkpoint: checkpoints/shakespeare/iter_4300.pt\n",
            "Iter 4400/5000, Avg Loss: 1.6915\n",
            "Saved checkpoint: checkpoints/shakespeare/iter_4400.pt\n",
            "Iter 4500/5000, Avg Loss: 1.6886\n",
            "Saved checkpoint: checkpoints/shakespeare/iter_4500.pt\n",
            "Iter 4600/5000, Avg Loss: 1.6818\n",
            "Saved checkpoint: checkpoints/shakespeare/iter_4600.pt\n",
            "Iter 4700/5000, Avg Loss: 1.6858\n",
            "Saved checkpoint: checkpoints/shakespeare/iter_4700.pt\n",
            "Iter 4800/5000, Avg Loss: 1.6780\n",
            "Saved checkpoint: checkpoints/shakespeare/iter_4800.pt\n",
            "Iter 4900/5000, Avg Loss: 1.6767\n",
            "Saved checkpoint: checkpoints/shakespeare/iter_4900.pt\n",
            "Saved final model to checkpoints/shakespeare/final.pt\n",
            "\n",
            "Generated sample after training:\n",
            "TO:\n",
            "Not so and the camman, holiew.\n",
            "\n",
            "ANGO:\n",
            "Let the boody, how man, and you with your here\n",
            "To sto evir such the such stay a pare call to must by contion as you come at broundest here\n",
            "him, to my my cordes well to seen the to she him the convous and spired much with heart him.\n",
            "\n",
            "MENENIUS:\n",
            "He speak brine a p\n"
          ]
        }
      ]
    },
    {
      "cell_type": "code",
      "source": [
        "import matplotlib.pyplot as plt\n",
        "\n",
        "# Plot loss curve\n",
        "plt.figure(figsize=(8,5))\n",
        "plt.plot(losses, label=\"Eval Loss\")\n",
        "plt.xlabel(\"Checkpoint step (x100 iterations)\")\n",
        "plt.ylabel(\"Loss\")\n",
        "plt.title(f\"Training Loss Curve - {corpus_name}\")\n",
        "plt.legend()\n",
        "plt.grid(True)\n",
        "\n",
        "# Save the plot as an image\n",
        "loss_plot_path = os.path.join(ckpt_dir, f\"loss_curve_{corpus_name}.png\")\n",
        "plt.savefig(loss_plot_path)\n",
        "plt.show()\n",
        "\n",
        "print(f\"Loss curve saved to {loss_plot_path}\")"
      ],
      "metadata": {
        "colab": {
          "base_uri": "https://localhost:8080/",
          "height": 505
        },
        "id": "TqkiZw9L22z5",
        "outputId": "49cbcc13-d364-46da-db27-572d8fa63527"
      },
      "execution_count": 30,
      "outputs": [
        {
          "output_type": "display_data",
          "data": {
            "text/plain": [
              "<Figure size 800x500 with 1 Axes>"
            ],
            "image/png": "[encoded data removed]"
          },
          "metadata": {}
        },
        {
          "output_type": "stream",
          "name": "stdout",
          "text": [
            "Loss curve saved to checkpoints/shakespeare/loss_curve_shakespeare.png\n"
          ]
        }
      ]
    },
    {
      "cell_type": "code",
      "source": [
        "from google.colab import files\n",
        "files.download(\"checkpoints/shakespeare/final.pt\")"
      ],
      "metadata": {
        "colab": {
          "base_uri": "https://localhost:8080/",
          "height": 17
        },
        "id": "QQoU3s6WhT-X",
        "outputId": "1d99573c-54ba-428b-b918-c9af4edaa826"
      },
      "execution_count": 22,
      "outputs": [
        {
          "output_type": "display_data",
          "data": {
            "text/plain": [
              "<IPython.core.display.Javascript object>"
            ],
            "application/javascript": [
              "\n",
              "    async function download(id, filename, size) {\n",
              "      if (!google.colab.kernel.accessAllowed) {\n",
              "        return;\n",
              "      }\n",
              "      const div = document.createElement('div');\n",
              "      const label = document.createElement('label');\n",
              "      label.textContent = `Downloading \"${filename}\": `;\n",
              "      div.appendChild(label);\n",
              "      const progress = document.createElement('progress');\n",
              "      progress.max = size;\n",
              "      div.appendChild(progress);\n",
              "      document.body.appendChild(div);\n",
              "\n",
              "      const buffers = [];\n",
              "      let downloaded = 0;\n",
              "\n",
              "      const channel = await google.colab.kernel.comms.open(id);\n",
              "      // Send a message to notify the kernel that we're ready.\n",
              "      channel.send({})\n",
              "\n",
              "      for await (const message of channel.messages) {\n",
              "        // Send a message to notify the kernel that we're ready.\n",
              "        channel.send({})\n",
              "        if (message.buffers) {\n",
              "          for (const buffer of message.buffers) {\n",
              "            buffers.push(buffer);\n",
              "            downloaded += buffer.byteLength;\n",
              "            progress.value = downloaded;\n",
              "          }\n",
              "        }\n",
              "      }\n",
              "      const blob = new Blob(buffers, {type: 'application/binary'});\n",
              "      const a = document.createElement('a');\n",
              "      a.href = window.URL.createObjectURL(blob);\n",
              "      a.download = filename;\n",
              "      div.appendChild(a);\n",
              "      a.click();\n",
              "      div.remove();\n",
              "    }\n",
              "  "
            ]
          },
          "metadata": {}
        },
        {
          "output_type": "display_data",
          "data": {
            "text/plain": [
              "<IPython.core.display.Javascript object>"
            ],
            "application/javascript": [
              "download(\"download_86a82974-f648-4280-9272-0784371e975f\", \"final.pt\", 5002647)"
            ]
          },
          "metadata": {}
        }
      ]
    },
    {
      "cell_type": "code",
      "source": [
        "!zip -r shakespeare_checkpoints.zip checkpoints/shakespeare\n",
        "files.download(\"shakespeare_checkpoints.zip\")"
      ],
      "metadata": {
        "colab": {
          "base_uri": "https://localhost:8080/",
          "height": 965
        },
        "id": "AqFKqiUOhZki",
        "outputId": "f7b3bf6c-617e-4ba4-9ab5-380ae456a6b4"
      },
      "execution_count": 23,
      "outputs": [
        {
          "output_type": "stream",
          "name": "stdout",
          "text": [
            "  adding: checkpoints/shakespeare/ (stored 0%)\n",
            "  adding: checkpoints/shakespeare/iter_1900.pt (deflated 9%)\n",
            "  adding: checkpoints/shakespeare/iter_2900.pt (deflated 9%)\n",
            "  adding: checkpoints/shakespeare/iter_700.pt (deflated 9%)\n",
            "  adding: checkpoints/shakespeare/iter_1500.pt (deflated 9%)\n",
            "  adding: checkpoints/shakespeare/iter_4000.pt (deflated 9%)\n",
            "  adding: checkpoints/shakespeare/iter_1800.pt (deflated 9%)\n",
            "  adding: checkpoints/shakespeare/iter_1400.pt (deflated 9%)\n",
            "  adding: checkpoints/shakespeare/iter_200.pt (deflated 8%)\n",
            "  adding: checkpoints/shakespeare/iter_600.pt (deflated 9%)\n",
            "  adding: checkpoints/shakespeare/iter_100.pt (deflated 8%)\n",
            "  adding: checkpoints/shakespeare/iter_1000.pt (deflated 9%)\n",
            "  adding: checkpoints/shakespeare/iter_2600.pt (deflated 9%)\n",
            "  adding: checkpoints/shakespeare/iter_2400.pt (deflated 9%)\n",
            "  adding: checkpoints/shakespeare/iter_4200.pt (deflated 9%)\n",
            "  adding: checkpoints/shakespeare/iter_2500.pt (deflated 9%)\n",
            "  adding: checkpoints/shakespeare/iter_2000.pt (deflated 9%)\n",
            "  adding: checkpoints/shakespeare/iter_1100.pt (deflated 9%)\n",
            "  adding: checkpoints/shakespeare/iter_3700.pt (deflated 9%)\n",
            "  adding: checkpoints/shakespeare/iter_2800.pt (deflated 9%)\n",
            "  adding: checkpoints/shakespeare/iter_4700.pt (deflated 9%)\n",
            "  adding: checkpoints/shakespeare/iter_2700.pt (deflated 9%)\n",
            "  adding: checkpoints/shakespeare/iter_3200.pt (deflated 9%)\n",
            "  adding: checkpoints/shakespeare/iter_1600.pt (deflated 9%)\n",
            "  adding: checkpoints/shakespeare/iter_3600.pt (deflated 9%)\n",
            "  adding: checkpoints/shakespeare/iter_400.pt (deflated 9%)\n",
            "  adding: checkpoints/shakespeare/iter_4900.pt (deflated 9%)\n",
            "  adding: checkpoints/shakespeare/iter_4500.pt (deflated 9%)\n",
            "  adding: checkpoints/shakespeare/iter_800.pt (deflated 9%)\n",
            "  adding: checkpoints/shakespeare/iter_3400.pt (deflated 9%)\n",
            "  adding: checkpoints/shakespeare/iter_3500.pt (deflated 9%)\n",
            "  adding: checkpoints/shakespeare/iter_2100.pt (deflated 9%)\n",
            "  adding: checkpoints/shakespeare/iter_3000.pt (deflated 9%)\n",
            "  adding: checkpoints/shakespeare/iter_1200.pt (deflated 9%)\n",
            "  adding: checkpoints/shakespeare/iter_4400.pt (deflated 9%)\n",
            "  adding: checkpoints/shakespeare/iter_3900.pt (deflated 9%)\n",
            "  adding: checkpoints/shakespeare/iter_4100.pt (deflated 9%)\n",
            "  adding: checkpoints/shakespeare/iter_3800.pt (deflated 9%)\n",
            "  adding: checkpoints/shakespeare/iter_2200.pt (deflated 9%)\n",
            "  adding: checkpoints/shakespeare/iter_500.pt (deflated 9%)\n",
            "  adding: checkpoints/shakespeare/iter_0.pt (deflated 7%)\n",
            "  adding: checkpoints/shakespeare/iter_300.pt (deflated 9%)\n",
            "  adding: checkpoints/shakespeare/iter_3300.pt (deflated 9%)\n",
            "  adding: checkpoints/shakespeare/iter_4300.pt (deflated 9%)\n",
            "  adding: checkpoints/shakespeare/iter_1700.pt (deflated 9%)\n",
            "  adding: checkpoints/shakespeare/iter_2300.pt (deflated 9%)\n",
            "  adding: checkpoints/shakespeare/iter_1300.pt (deflated 9%)\n",
            "  adding: checkpoints/shakespeare/iter_3100.pt (deflated 9%)\n",
            "  adding: checkpoints/shakespeare/iter_900.pt (deflated 9%)\n",
            "  adding: checkpoints/shakespeare/final.pt (deflated 9%)\n",
            "  adding: checkpoints/shakespeare/iter_4600.pt (deflated 9%)\n",
            "  adding: checkpoints/shakespeare/iter_4800.pt (deflated 9%)\n"
          ]
        },
        {
          "output_type": "display_data",
          "data": {
            "text/plain": [
              "<IPython.core.display.Javascript object>"
            ],
            "application/javascript": [
              "\n",
              "    async function download(id, filename, size) {\n",
              "      if (!google.colab.kernel.accessAllowed) {\n",
              "        return;\n",
              "      }\n",
              "      const div = document.createElement('div');\n",
              "      const label = document.createElement('label');\n",
              "      label.textContent = `Downloading \"${filename}\": `;\n",
              "      div.appendChild(label);\n",
              "      const progress = document.createElement('progress');\n",
              "      progress.max = size;\n",
              "      div.appendChild(progress);\n",
              "      document.body.appendChild(div);\n",
              "\n",
              "      const buffers = [];\n",
              "      let downloaded = 0;\n",
              "\n",
              "      const channel = await google.colab.kernel.comms.open(id);\n",
              "      // Send a message to notify the kernel that we're ready.\n",
              "      channel.send({})\n",
              "\n",
              "      for await (const message of channel.messages) {\n",
              "        // Send a message to notify the kernel that we're ready.\n",
              "        channel.send({})\n",
              "        if (message.buffers) {\n",
              "          for (const buffer of message.buffers) {\n",
              "            buffers.push(buffer);\n",
              "            downloaded += buffer.byteLength;\n",
              "            progress.value = downloaded;\n",
              "          }\n",
              "        }\n",
              "      }\n",
              "      const blob = new Blob(buffers, {type: 'application/binary'});\n",
              "      const a = document.createElement('a');\n",
              "      a.href = window.URL.createObjectURL(blob);\n",
              "      a.download = filename;\n",
              "      div.appendChild(a);\n",
              "      a.click();\n",
              "      div.remove();\n",
              "    }\n",
              "  "
            ]
          },
          "metadata": {}
        },
        {
          "output_type": "display_data",
          "data": {
            "text/plain": [
              "<IPython.core.display.Javascript object>"
            ],
            "application/javascript": [
              "download(\"download_d20ef811-bd23-4d01-8257-95807dad9c57\", \"shakespeare_checkpoints.zip\", 232406850)"
            ]
          },
          "metadata": {}
        }
      ]
    },
    {
      "cell_type": "code",
      "source": [
        "import os, io, zipfile, requests\n",
        "from pathlib import Path\n",
        "\n",
        "# Choose the corpus\n",
        "corpus_name = \"wikipedia\"  # Change to \"shakespeare\", \"wikipedia\", or \"math\"\n",
        "\n",
        "# Reliable sources:\n",
        "# - shakespeare: Karpathy's tiny Shakespeare (plain text)\n",
        "# - wikipedia: https://www.kaggle.com/datasets/ffatty/plain-text-wikipedia-simpleenglish\n",
        "# - math: https://archive.org/stream/CalculusMadeEasy/Calculus_Made_Easy_Thompson_djvu.txt\n",
        "\n",
        "\n",
        "\n",
        "# Download and show sample\n",
        "\n",
        "text = Path(f\"/content/drive/MyDrive/Lab 1 attached files Sep 3, 2025 439 PM/data/{corpus_name}.txt\").read_text(encoding=\"utf-8\", errors=\"ignore\")\n",
        "print(f\"Corpus length: {len(text)} characters\")\n",
        "print(\"Sample:\")\n",
        "print(text[:300])"
      ],
      "metadata": {
        "colab": {
          "base_uri": "https://localhost:8080/"
        },
        "id": "7NZm3CnEhs2F",
        "outputId": "0f836adc-1054-4ddf-9585-1a1683188a4f"
      },
      "execution_count": 24,
      "outputs": [
        {
          "output_type": "stream",
          "name": "stdout",
          "text": [
            "Corpus length: 1842376 characters\n",
            "Sample:\n",
            "April\n",
            "\n",
            "April (Apr.) is the fourth month of the year in the Julian and Gregorian calendars, and comes between March and May. It is one of four months to have 30 days.\n",
            "\n",
            "April always begins on the same day of the week as July, and additionally, January in leap years. April always ends on the same day o\n"
          ]
        }
      ]
    },
    {
      "cell_type": "code",
      "source": [
        "# -----------------------------------------\n",
        "# Prepare dataset for character-level modeling\n",
        "# -----------------------------------------\n",
        "\n",
        "import torch\n",
        "from torch.utils.data import Dataset, DataLoader\n",
        "from pathlib import Path\n",
        "from torch.utils.data import DataLoader\n",
        "\n",
        "class CharDataset(Dataset):\n",
        "    def __init__(self, text, block_size, stoi=None, itos=None):\n",
        "        \"\"\"\n",
        "        text: The raw text string we want to train on.\n",
        "        block_size: The length of each training sequence (number of characters).\n",
        "        stoi, itos: Optional vocab mappings. If provided, reuse them.\n",
        "        \"\"\"\n",
        "\n",
        "        # 1. Build or reuse the vocabulary\n",
        "        if stoi is None or itos is None:\n",
        "            # Build from scratch\n",
        "            self.chars = sorted(list(set(text)))\n",
        "            self.vocab_size = len(self.chars)\n",
        "            self.stoi = {ch: i for i, ch in enumerate(self.chars)}\n",
        "            self.itos = {i: ch for i, ch in enumerate(self.chars)}\n",
        "        else:\n",
        "            # Reuse given vocab\n",
        "            self.stoi = stoi\n",
        "            self.itos = itos\n",
        "            self.vocab_size = len(self.stoi)\n",
        "\n",
        "        # 2. Store sequence length\n",
        "        self.block_size = block_size\n",
        "\n",
        "        # 3. Encode dataset into indices\n",
        "        #    Use .get(ch, 0) so unknown characters map to 0\n",
        "        self.data = torch.tensor([self.stoi.get(c, 0) for c in text], dtype=torch.long)\n",
        "\n",
        "    def __len__(self):\n",
        "        return len(self.data) - self.block_size\n",
        "\n",
        "    def __getitem__(self, idx):\n",
        "        chunk = self.data[idx : idx + self.block_size + 1]\n",
        "        x = chunk[:-1]\n",
        "        y = chunk[1:]\n",
        "        return x, y\n",
        "\n",
        "\n",
        "block_size = 64\n",
        "text = Path(f\"/content/drive/MyDrive/Lab 1 attached files Sep 3, 2025 439 PM/data/{corpus_name}.txt\").read_text(encoding=\"utf-8\", errors=\"ignore\")\n",
        "dataset = CharDataset(text, block_size=block_size, stoi=None, itos=None)"
      ],
      "metadata": {
        "id": "-KpSRu5_k5Bc"
      },
      "execution_count": 25,
      "outputs": []
    },
    {
      "cell_type": "code",
      "source": [
        "import sys\n",
        "sys.path.append(\"/content/drive/MyDrive/Lab 1 attached files Sep 3, 2025 439 PM\")\n",
        "from nanogpt_model import GPT  # Import the GPT model class from the NanoGPT repo\n",
        "\n",
        "\n",
        "# -----------------------------------------\n",
        "# Define a configuration object for the GPT model\n",
        "# -----------------------------------------\n",
        "class GPTConfig:\n",
        "    def __init__(self, vocab_size, block_size,\n",
        "                 n_layer=2, n_head=2, n_embd=128, dropout=0.2, bias = True):\n",
        "\n",
        "\n",
        "        # Store all parameters for use by the GPT class\n",
        "        self.vocab_size = vocab_size\n",
        "        self.block_size = block_size\n",
        "        self.n_layer = n_layer\n",
        "        self.n_head = n_head\n",
        "        self.n_embd = n_embd\n",
        "        self.dropout = dropout\n",
        "        self.bias = bias\n",
        "\n",
        "\n",
        "config = GPTConfig(vocab_size=dataset.vocab_size, block_size=block_size)\n",
        "model = GPT(config)\n",
        "print(model)\n",
        "\n",
        ""
      ],
      "metadata": {
        "colab": {
          "base_uri": "https://localhost:8080/"
        },
        "id": "DYe6-5ajlBni",
        "outputId": "602a73c5-372a-4d9b-958e-0771b0f48d77"
      },
      "execution_count": 26,
      "outputs": [
        {
          "output_type": "stream",
          "name": "stdout",
          "text": [
            "number of parameters: 0.43M\n",
            "GPT(\n",
            "  (transformer): ModuleDict(\n",
            "    (wte): Embedding(292, 128)\n",
            "    (wpe): Embedding(64, 128)\n",
            "    (drop): Dropout(p=0.2, inplace=False)\n",
            "    (h): ModuleList(\n",
            "      (0-1): 2 x Block(\n",
            "        (ln_1): LayerNorm()\n",
            "        (attn): CausalSelfAttention(\n",
            "          (c_attn): Linear(in_features=128, out_features=384, bias=True)\n",
            "          (c_proj): Linear(in_features=128, out_features=128, bias=True)\n",
            "          (attn_dropout): Dropout(p=0.2, inplace=False)\n",
            "          (resid_dropout): Dropout(p=0.2, inplace=False)\n",
            "        )\n",
            "        (ln_2): LayerNorm()\n",
            "        (mlp): MLP(\n",
            "          (c_fc): Linear(in_features=128, out_features=512, bias=True)\n",
            "          (gelu): GELU(approximate='none')\n",
            "          (c_proj): Linear(in_features=512, out_features=128, bias=True)\n",
            "          (dropout): Dropout(p=0.2, inplace=False)\n",
            "        )\n",
            "      )\n",
            "    )\n",
            "    (ln_f): LayerNorm()\n",
            "  )\n",
            "  (lm_head): Linear(in_features=128, out_features=292, bias=False)\n",
            ")\n"
          ]
        }
      ]
    },
    {
      "cell_type": "code",
      "source": [
        "import os\n",
        "import torch\n",
        "from tqdm import tqdm\n",
        "print(corpus_name)\n",
        "# Directory for this corpus\n",
        "ckpt_dir = os.path.join(\"checkpoints\", corpus_name)\n",
        "os.makedirs(ckpt_dir, exist_ok=True)\n",
        "final_ckpt_path = os.path.join(ckpt_dir, \"final.pt\")\n",
        "\n",
        "if os.path.exists(final_ckpt_path):\n",
        "    print(f\"Final checkpoint for '{corpus_name}' found at {final_ckpt_path}.\")\n",
        "    ckpt = torch.load(final_ckpt_path, map_location=\"cpu\")\n",
        "    model.load_state_dict(ckpt[\"model_state\"])\n",
        "    losses = ckpt.get(\"losses\", [])\n",
        "    print(f\"Loaded model with {len(losses)} stored loss values.\")\n",
        "else:\n",
        "    print(f\"No checkpoint found for '{corpus_name}', starting training...\")\n",
        "    optimizer = torch.optim.AdamW(model.parameters(), lr=1e-3)\n",
        "    loader = DataLoader(dataset, batch_size=32, shuffle=True)\n",
        "    max_iters = 500\n",
        "\n",
        "    losses = []   # will now store only full-batch eval losses\n",
        "    model.train()\n",
        "    for it in range(max_iters):\n",
        "        xb, yb = next(iter(loader))\n",
        "\n",
        "        logits, loss = model(xb, yb)\n",
        "        optimizer.zero_grad()\n",
        "        loss.backward()\n",
        "        optimizer.step()\n",
        "\n",
        "        if it % 100 == 0:\n",
        "            # Evaluate on full dataset (avg loss across all batches)\n",
        "            model.eval()\n",
        "            eval_losses = []\n",
        "\n",
        "            max_batches = len(loader) * 0.01\n",
        "            for i, (xb_eval, yb_eval) in enumerate(loader):\n",
        "                if i >= max_batches:  break\n",
        "                logits_eval, loss_eval = model(xb_eval, yb_eval)\n",
        "                eval_losses.append(loss_eval.item())\n",
        "            avg_loss = torch.mean(torch.tensor(eval_losses))\n",
        "            losses.append(avg_loss)\n",
        "            print(f\"Iter {it}/{max_iters}, Avg Loss over dataset: {avg_loss:.4f}\")\n",
        "\n",
        "            # Save periodic checkpoint\n",
        "            iter_ckpt_path = os.path.join(ckpt_dir, f\"iter_{it}.pt\")\n",
        "            torch.save({\n",
        "                \"model_state\": model.state_dict(),\n",
        "                \"config\": config.__dict__,\n",
        "                \"itos\": dataset.itos,\n",
        "                \"stoi\": dataset.stoi,\n",
        "                \"losses\": losses\n",
        "            }, iter_ckpt_path)\n",
        "            print(f\"Saved checkpoint: {iter_ckpt_path}\")\n",
        "            model.train()  # back to training mode\n",
        "\n",
        "    # Save final checkpoint\n",
        "    torch.save({\n",
        "        \"model_state\": model.state_dict(),\n",
        "        \"config\": config.__dict__,\n",
        "        \"itos\": dataset.itos,\n",
        "        \"stoi\": dataset.stoi,\n",
        "        \"losses\": losses\n",
        "    }, final_ckpt_path)\n",
        "    print(f\"Saved final model to {final_ckpt_path}\")\n"
      ],
      "metadata": {
        "colab": {
          "base_uri": "https://localhost:8080/"
        },
        "id": "SXCTTXoPlNVy",
        "outputId": "748fc92b-ea7f-461a-8c8c-c77c3e004e15"
      },
      "execution_count": 27,
      "outputs": [
        {
          "output_type": "stream",
          "name": "stdout",
          "text": [
            "wikipedia\n",
            "No checkpoint found for 'wikipedia', starting training...\n",
            "Iter 0/500, Avg Loss over dataset: 5.0970\n",
            "Saved checkpoint: checkpoints/wikipedia/iter_0.pt\n",
            "Iter 100/500, Avg Loss over dataset: 2.8683\n",
            "Saved checkpoint: checkpoints/wikipedia/iter_100.pt\n",
            "Iter 200/500, Avg Loss over dataset: 2.5655\n",
            "Saved checkpoint: checkpoints/wikipedia/iter_200.pt\n",
            "Iter 300/500, Avg Loss over dataset: 2.5013\n",
            "Saved checkpoint: checkpoints/wikipedia/iter_300.pt\n",
            "Iter 400/500, Avg Loss over dataset: 2.4653\n",
            "Saved checkpoint: checkpoints/wikipedia/iter_400.pt\n",
            "Saved final model to checkpoints/wikipedia/final.pt\n"
          ]
        }
      ]
    },
    {
      "cell_type": "code",
      "source": [
        "import matplotlib.pyplot as plt\n",
        "\n",
        "# Plot training losses\n",
        "plt.figure(figsize=(6,4))\n",
        "plt.plot(losses, marker='o')\n",
        "plt.xlabel(\"Checkpoint (every 100 iters)\")\n",
        "plt.ylabel(\"Average Loss\")\n",
        "plt.title(f\"Training Loss Curve - {corpus_name}\")\n",
        "plt.grid(True)\n",
        "plt.show()"
      ],
      "metadata": {
        "colab": {
          "base_uri": "https://localhost:8080/",
          "height": 410
        },
        "id": "vCBOCaRgnonW",
        "outputId": "5b3d6b87-c7b9-4bb6-84fa-249a3f7629c0"
      },
      "execution_count": 28,
      "outputs": [
        {
          "output_type": "display_data",
          "data": {
            "text/plain": [
              "<Figure size 600x400 with 1 Axes>"
            ],
            "image/png": "[encoded data removed]"
          },
          "metadata": {}
        }
      ]
    },
    {
      "cell_type": "code",
      "source": [
        "ckpt = torch.load(\"checkpoints/wikipedia/final.pt\", map_location=\"cpu\")\n",
        "model.load_state_dict(ckpt[\"model_state\"])\n",
        "model.eval()\n",
        "\n",
        "context = torch.tensor([[dataset.stoi[\"T\"]]], dtype=torch.long)  # seed with 'T'\n",
        "out = model.generate(context, max_new_tokens=200)\n",
        "print(\"Generated text:\\n\", ''.join([dataset.itos[int(i)] for i in out[0]]))"
      ],
      "metadata": {
        "colab": {
          "base_uri": "https://localhost:8080/"
        },
        "id": "kt3KC8fnnt0I",
        "outputId": "c7b8d541-d00c-491e-e937-f5a89923825b"
      },
      "execution_count": 31,
      "outputs": [
        {
          "output_type": "stream",
          "name": "stdout",
          "text": [
            "Generated text:\n",
            " The hen IIt an an nasegitass, inghe. Re ant tth das the omuson at wese-rand the rvtousl. T, leodn cerache tom e mang sof candend tibrs mins, domeestexmaro code thir ad buedelolero cale is the o argul a\n"
          ]
        }
      ]
    },
    {
      "cell_type": "code",
      "source": [
        "import os\n",
        "import torch\n",
        "from torch.utils.data import DataLoader\n",
        "import matplotlib.pyplot as plt\n",
        "\n",
        "print(corpus_name)\n",
        "\n",
        "ckpt_dir = os.path.join(\"checkpoints\", corpus_name)\n",
        "os.makedirs(ckpt_dir, exist_ok=True)\n",
        "final_ckpt_path = os.path.join(ckpt_dir, \"final.pt\")\n",
        "\n",
        "learning_rate = 3e-4\n",
        "batch_size = 32\n",
        "max_iters = 5000\n",
        "eval_interval = 100\n",
        "grad_clip = 1.0\n",
        "top_k = 50\n",
        "temperature = 0.7\n",
        "\n",
        "optimizer = torch.optim.AdamW(model.parameters(), lr=learning_rate)\n",
        "loader = DataLoader(dataset, batch_size=batch_size, shuffle=True)\n",
        "\n",
        "losses = []\n",
        "start_iter = 0\n",
        "\n",
        "if os.path.exists(final_ckpt_path):\n",
        "    print(f\"Checkpoint found for '{corpus_name}' at {final_ckpt_path}, resuming training...\")\n",
        "    ckpt = torch.load(final_ckpt_path, map_location=\"cpu\")\n",
        "    model.load_state_dict(ckpt[\"model_state\"])\n",
        "    optimizer.load_state_dict(ckpt.get(\"optimizer_state\", optimizer.state_dict()))\n",
        "    losses = ckpt.get(\"losses\", [])\n",
        "    start_iter = ckpt.get(\"iter\", 0)\n",
        "    print(f\"Resuming from iteration {start_iter}, with {len(losses)} stored loss values.\")\n",
        "else:\n",
        "    print(f\"No checkpoint found for '{corpus_name}', starting training from scratch...\")\n",
        "\n",
        "model.train()\n",
        "for it in range(start_iter, max_iters):\n",
        "    xb, yb = next(iter(loader))\n",
        "    logits, loss = model(xb, yb)\n",
        "    optimizer.zero_grad()\n",
        "    loss.backward()\n",
        "    torch.nn.utils.clip_grad_norm_(model.parameters(), max_norm=grad_clip)\n",
        "    optimizer.step()\n",
        "\n",
        "    if it % eval_interval == 0:\n",
        "        model.eval()\n",
        "        eval_losses = []\n",
        "        max_batches = int(len(loader) * 0.01)\n",
        "        for i, (xb_eval, yb_eval) in enumerate(loader):\n",
        "            if i >= max_batches: break\n",
        "            _, loss_eval = model(xb_eval, yb_eval)\n",
        "            eval_losses.append(loss_eval.item())\n",
        "        avg_loss = torch.mean(torch.tensor(eval_losses))\n",
        "        losses.append(avg_loss)\n",
        "        print(f\"Iter {it}/{max_iters}, Avg Loss: {avg_loss:.4f}\")\n",
        "\n",
        "        iter_ckpt_path = os.path.join(ckpt_dir, f\"iter_{it}.pt\")\n",
        "        torch.save({\n",
        "            \"model_state\": model.state_dict(),\n",
        "            \"optimizer_state\": optimizer.state_dict(),\n",
        "            \"config\": config.__dict__,\n",
        "            \"itos\": dataset.itos,\n",
        "            \"stoi\": dataset.stoi,\n",
        "            \"losses\": losses,\n",
        "            \"iter\": it\n",
        "        }, iter_ckpt_path)\n",
        "        print(f\"Saved checkpoint: {iter_ckpt_path}\")\n",
        "        model.train()\n",
        "\n",
        "torch.save({\n",
        "    \"model_state\": model.state_dict(),\n",
        "    \"optimizer_state\": optimizer.state_dict(),\n",
        "    \"config\": config.__dict__,\n",
        "    \"itos\": dataset.itos,\n",
        "    \"stoi\": dataset.stoi,\n",
        "    \"losses\": losses,\n",
        "    \"iter\": max_iters\n",
        "}, final_ckpt_path)\n",
        "print(f\"Saved final model to {final_ckpt_path}\")\n",
        "\n",
        "def generate_text(model, start=\"TO:\", max_new_tokens=200, temperature=0.7, top_k=50):\n",
        "    model.eval()\n",
        "    device = next(model.parameters()).device\n",
        "    idx = torch.tensor([[dataset.stoi.get(s, 0) for s in start]], dtype=torch.long, device=device)\n",
        "    for _ in range(max_new_tokens):\n",
        "        idx_cond = idx[:, -config.block_size:]\n",
        "        logits, _ = model(idx_cond)\n",
        "        logits = logits[:, -1, :] / temperature\n",
        "        probs = torch.softmax(logits, dim=-1)\n",
        "        if top_k is not None:\n",
        "            values, indices = torch.topk(probs, top_k)\n",
        "            probs = torch.zeros_like(probs).scatter_(1, indices, values)\n",
        "            probs /= probs.sum(dim=-1, keepdim=True)\n",
        "        next_token = torch.multinomial(probs, num_samples=1)\n",
        "        idx = torch.cat((idx, next_token), dim=1)\n",
        "    text = ''.join([dataset.itos[i] for i in idx[0].tolist()])\n",
        "    return text\n",
        "\n",
        "print(\"\\nGenerated sample after training:\")\n",
        "print(generate_text(model, start=\"TO:\", max_new_tokens=300, temperature=temperature, top_k=top_k))\n"
      ],
      "metadata": {
        "colab": {
          "base_uri": "https://localhost:8080/"
        },
        "id": "Fo42MvDjn6PD",
        "outputId": "ed69197d-9635-467d-9b57-64c4b9e76ff5"
      },
      "execution_count": null,
      "outputs": [
        {
          "output_type": "stream",
          "name": "stdout",
          "text": [
            "wikipedia\n",
            "Checkpoint found for 'wikipedia' at checkpoints/wikipedia/final.pt, resuming training...\n",
            "Resuming from iteration 0, with 5 stored loss values.\n",
            "Iter 0/5000, Avg Loss: 2.4130\n",
            "Saved checkpoint: checkpoints/wikipedia/iter_0.pt\n"
          ]
        }
      ]
    }
  ]
}